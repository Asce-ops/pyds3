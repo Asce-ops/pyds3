{
 "cells": [
  {
   "cell_type": "markdown",
   "metadata": {},
   "source": [
    "# 装饰器"
   ]
  },
  {
   "cell_type": "code",
   "execution_count": 1,
   "metadata": {},
   "outputs": [],
   "source": [
    "def hi(name=\"yasoob\"):\n",
    "    def greet():\n",
    "        return \"now you are in the greet() function\"\n",
    " \n",
    "    def welcome():\n",
    "        return \"now you are in the welcome() function\"\n",
    " \n",
    "    if name == \"yasoob\":\n",
    "        return greet\n",
    "    else:\n",
    "        return welcome"
   ]
  },
  {
   "cell_type": "code",
   "execution_count": 2,
   "metadata": {},
   "outputs": [],
   "source": [
    "a = hi() # 未传递参数，默认将'yasoob'赋值给`name`，调用该函数最终会返回`greet`函数"
   ]
  },
  {
   "cell_type": "code",
   "execution_count": 5,
   "metadata": {},
   "outputs": [
    {
     "data": {
      "text/plain": [
       "'now you are in the greet() function'"
      ]
     },
     "execution_count": 5,
     "metadata": {},
     "output_type": "execute_result"
    }
   ],
   "source": [
    "hi()()"
   ]
  },
  {
   "cell_type": "code",
   "execution_count": 4,
   "metadata": {},
   "outputs": [
    {
     "name": "stdout",
     "output_type": "stream",
     "text": [
      "装饰前：\n",
      "I am the function which needs some decoration to remove my foul smell\n",
      "装饰后：\n",
      "I am doing some boring work before executing a_func()\n",
      "I am the function which needs some decoration to remove my foul smell\n",
      "I am doing some boring work after executing a_func()\n"
     ]
    }
   ],
   "source": [
    "def a_new_decorator(a_func):\n",
    " \n",
    "    def wrapTheFunction():\n",
    "        print(\"I am doing some boring work before executing a_func()\")\n",
    " \n",
    "        a_func()\n",
    " \n",
    "        print(\"I am doing some boring work after executing a_func()\")\n",
    " \n",
    "    return wrapTheFunction\n",
    " \n",
    "def a_function_requiring_decoration():\n",
    "    print(\"I am the function which needs some decoration to remove my foul smell\")\n",
    "\n",
    "\n",
    "print('装饰前：')\n",
    "a_function_requiring_decoration()\n",
    "print('装饰后：')\n",
    "a_new_decorator(a_function_requiring_decoration)() # `a_new_decorator(a_function_requiring_decoration)`是一个函数体"
   ]
  },
  {
   "cell_type": "code",
   "execution_count": 5,
   "metadata": {},
   "outputs": [
    {
     "name": "stdout",
     "output_type": "stream",
     "text": [
      "I am doing some boring work before executing a_func()\n",
      "I am the function which needs some decoration to remove my foul smell\n",
      "I am doing some boring work after executing a_func()\n"
     ]
    }
   ],
   "source": [
    "def a_new_decorator(a_func):\n",
    " \n",
    "    def wrapTheFunction():\n",
    "        print(\"I am doing some boring work before executing a_func()\")\n",
    " \n",
    "        a_func()\n",
    " \n",
    "        print(\"I am doing some boring work after executing a_func()\")\n",
    " \n",
    "    return wrapTheFunction\n",
    "\n",
    "@a_new_decorator # 将函数`a_function_requiring_decoration`作为参数传递给函数`a_new_decorator`\n",
    "def a_function_requiring_decoration():\n",
    "    print(\"I am the function which needs some decoration to remove my foul smell\")\n",
    "\n",
    "\n",
    "a_function_requiring_decoration() # 等价于上一个cell的`a_new_decorator(a_function_requiring_decoration)()`"
   ]
  },
  {
   "cell_type": "markdown",
   "metadata": {},
   "source": [
    "# property函数\n",
    "以属性的方式来调用方法"
   ]
  },
  {
   "cell_type": "code",
   "execution_count": 2,
   "metadata": {},
   "outputs": [],
   "source": [
    "class C:\n",
    "    def __init__(self):\n",
    "        self._x = None\n",
    " \n",
    "    def getx(self):\n",
    "        return self._x\n",
    " \n",
    "    def setx(self, value):\n",
    "        self._x = value\n",
    " \n",
    "    def delx(self):\n",
    "        del self._x\n",
    " \n",
    "    x = property(fget=getx, fset=setx, fdel=delx, doc=\"I'm the 'x' property.\")"
   ]
  },
  {
   "cell_type": "code",
   "execution_count": 7,
   "metadata": {},
   "outputs": [
    {
     "data": {
      "text/plain": [
       "10"
      ]
     },
     "execution_count": 7,
     "metadata": {},
     "output_type": "execute_result"
    }
   ],
   "source": [
    "c = C()\n",
    "c.setx(10)\n",
    "c.getx()"
   ]
  },
  {
   "cell_type": "code",
   "execution_count": 8,
   "metadata": {},
   "outputs": [
    {
     "data": {
      "text/plain": [
       "10"
      ]
     },
     "execution_count": 8,
     "metadata": {},
     "output_type": "execute_result"
    }
   ],
   "source": [
    "c.x # 触发对象c的getx方法，等价于执行`c.getx()`"
   ]
  },
  {
   "cell_type": "code",
   "execution_count": 12,
   "metadata": {},
   "outputs": [
    {
     "data": {
      "text/plain": [
       "20"
      ]
     },
     "execution_count": 12,
     "metadata": {},
     "output_type": "execute_result"
    }
   ],
   "source": [
    "c.x = 20 # 触发对象c的setx方法，等价于执行`c.setx(20)`\n",
    "c.x"
   ]
  },
  {
   "cell_type": "code",
   "execution_count": 10,
   "metadata": {},
   "outputs": [],
   "source": [
    "del c.x # 触发对象c的delx方法，等价于执行`c.delx()`\n",
    "c.x # 由于前面已经删除了对象c的隐藏属性`_x`，所以执行改行代码会报错"
   ]
  },
  {
   "cell_type": "markdown",
   "metadata": {},
   "source": [
    "# @property装饰器\n",
    "\n",
    "能够将方法以属性的方式调用（即不加括号调用方法）\n",
    "\n",
    "## `setter`方法\n",
    "- `setter`方法需要和`@property`修饰的方法具有相同的名字\n",
    "\n",
    "- 它会将用户传给`property`的值，作为参数\n",
    "\n",
    "- 最后你需要在方法定义上添加`@{methodname}.setter`装饰器\n",
    "\n",
    "## `deleter`方法\n",
    "和`setter`方法类似，当我们需要删除一个属性时，我们会使用`deleter`方法。\n",
    "\n",
    "你可以像定义`setter`方法一样来定义一个`setter`方法，使用相同的方法名，并在方法上添加`@{methodname}.deleter`装饰器 。"
   ]
  },
  {
   "cell_type": "code",
   "execution_count": 12,
   "metadata": {},
   "outputs": [],
   "source": [
    "class Person():\n",
    "    def __init__(self, first_name, last_name):\n",
    "        self.first = first_name\n",
    "        self.last = last_name\n",
    "\n",
    "    @property\n",
    "    def fullname(self): # 执行`self.fullname`等价于执行`self.fullname()`\n",
    "        return self.first + self.last\n",
    "\n",
    "    @fullname.setter\n",
    "    def fullname(self, name): # 执行`self.fullname = name`等价于调用该函数\n",
    "        first_name, last_name = name.split(sep=' ')\n",
    "        self.first = first_name\n",
    "        self.last = last_name\n",
    "\n",
    "    @fullname.deleter\n",
    "    def fullname(self): # 执行`del self.fullname`等价于调用该函数\n",
    "        self.first = None\n",
    "        self.last = None\n",
    "\n",
    "    def email(self):\n",
    "        return '{}.{}@email.com'.format(self.first, self.last)"
   ]
  },
  {
   "cell_type": "code",
   "execution_count": 13,
   "metadata": {},
   "outputs": [
    {
     "name": "stdout",
     "output_type": "stream",
     "text": [
      "张三\n",
      "三\n",
      "张\n",
      "李四\n",
      "四\n",
      "李\n",
      "None\n",
      "None\n"
     ]
    }
   ],
   "source": [
    "person = Person(first_name='张', last_name='三')\n",
    "print(person.fullname)\n",
    "print(person.last)\n",
    "print(person.first)\n",
    "\n",
    "person.fullname = '李 四'\n",
    "print(person.fullname)\n",
    "print(person.last)\n",
    "print(person.first)\n",
    "\n",
    "del person.fullname\n",
    "print(person.last)\n",
    "print(person.first)"
   ]
  }
 ],
 "metadata": {
  "kernelspec": {
   "display_name": "base",
   "language": "python",
   "name": "python3"
  },
  "language_info": {
   "codemirror_mode": {
    "name": "ipython",
    "version": 3
   },
   "file_extension": ".py",
   "mimetype": "text/x-python",
   "name": "python",
   "nbconvert_exporter": "python",
   "pygments_lexer": "ipython3",
   "version": "3.9.16"
  }
 },
 "nbformat": 4,
 "nbformat_minor": 2
}
